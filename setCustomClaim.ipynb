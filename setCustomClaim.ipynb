{
 "cells": [
  {
   "cell_type": "code",
   "execution_count": 1,
   "metadata": {},
   "outputs": [],
   "source": [
    "# firebase admin sdk\n",
    "import firebase_admin\n",
    "from firebase_admin import credentials\n",
    "import os\n"
   ]
  },
  {
   "cell_type": "code",
   "execution_count": 2,
   "metadata": {},
   "outputs": [
    {
     "data": {
      "text/plain": [
       "<firebase_admin.App at 0x1913f3a8ce0>"
      ]
     },
     "execution_count": 2,
     "metadata": {},
     "output_type": "execute_result"
    }
   ],
   "source": [
    "# Use a service account\n",
    "cred = credentials.Certificate(\n",
    "    'hackathon-manager-psg-firebase-adminsdk-lrxa4-78ab536cad.json')\n",
    "firebase_admin.initialize_app(cred)"
   ]
  },
  {
   "cell_type": "code",
   "execution_count": 3,
   "metadata": {},
   "outputs": [
    {
     "name": "stdout",
     "output_type": "stream",
     "text": [
      "Successfully set custom claim admin to True for user with UID wvOBXZOgOLakhGg4tG5rwM1yRf23\n"
     ]
    }
   ],
   "source": [
    "from firebase_admin import auth\n",
    "\n",
    "# Function to set custom claim\n",
    "def set_custom_claim(uid, claim_name, claim_value):\n",
    "    # Set custom claims\n",
    "    claims = {claim_name: claim_value}\n",
    "    auth.set_custom_user_claims(uid, claims)\n",
    "    print(f'Successfully set custom claim {claim_name} to {claim_value} for user with UID {uid}')\n",
    "\n",
    "# Usage\n",
    "uid = \"custom_admin_id\"\n",
    "claim_name = \"admin\"\n",
    "claim_value = True\n",
    "set_custom_claim(uid, claim_name, claim_value)"
   ]
  },
  {
   "cell_type": "code",
   "execution_count": null,
   "metadata": {},
   "outputs": [],
   "source": []
  }
 ],
 "metadata": {
  "kernelspec": {
   "display_name": "Python 3",
   "language": "python",
   "name": "python3"
  },
  "language_info": {
   "codemirror_mode": {
    "name": "ipython",
    "version": 3
   },
   "file_extension": ".py",
   "mimetype": "text/x-python",
   "name": "python",
   "nbconvert_exporter": "python",
   "pygments_lexer": "ipython3",
   "version": "3.12.4"
  }
 },
 "nbformat": 4,
 "nbformat_minor": 2
}
